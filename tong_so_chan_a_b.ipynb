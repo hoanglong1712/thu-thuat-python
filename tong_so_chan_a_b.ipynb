{
 "cells": [
  {
   "cell_type": "code",
   "execution_count": 1,
   "metadata": {},
   "outputs": [
    {
     "name": "stdout",
     "output_type": "stream",
     "text": [
      "SO cac so chan: 5\n",
      "Tong:  40\n"
     ]
    }
   ],
   "source": [
    "a = int(input('Nhap a:'))\n",
    "b = int(input('Nhap b:'))\n",
    "so_cac_so_chan = 0\n",
    "tong = 0\n",
    "so = a\n",
    "while so <= b:\n",
    "    if so % 2 == 0:\n",
    "        so_cac_so_chan = so_cac_so_chan + 1\n",
    "        tong = tong + so\n",
    "        pass\n",
    "    so = so + 1\n",
    "    pass\n",
    "\n",
    "print('SO cac so chan:', so_cac_so_chan)\n",
    "print('Tong: ', tong)\n",
    "\n",
    "# 3 -> 12\n",
    "# 4 6 8 10 12"
   ]
  }
 ],
 "metadata": {
  "interpreter": {
   "hash": "916dbcbb3f70747c44a77c7bcd40155683ae19c65e1c03b4aa3499c5328201f1"
  },
  "kernelspec": {
   "display_name": "Python 3.8.10 64-bit",
   "language": "python",
   "name": "python3"
  },
  "language_info": {
   "codemirror_mode": {
    "name": "ipython",
    "version": 3
   },
   "file_extension": ".py",
   "mimetype": "text/x-python",
   "name": "python",
   "nbconvert_exporter": "python",
   "pygments_lexer": "ipython3",
   "version": "3.8.10"
  },
  "orig_nbformat": 4
 },
 "nbformat": 4,
 "nbformat_minor": 2
}
