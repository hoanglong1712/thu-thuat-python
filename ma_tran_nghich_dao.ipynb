{
 "cells": [
  {
   "cell_type": "code",
   "execution_count": 11,
   "metadata": {},
   "outputs": [],
   "source": [
    "import numpy as np"
   ]
  },
  {
   "cell_type": "code",
   "execution_count": 12,
   "metadata": {},
   "outputs": [],
   "source": [
    "mat_tran = np.array([[1,2,1,1], [2,3,2,6],[-3, -1,0, 5], [1,1,1,5]])"
   ]
  },
  {
   "cell_type": "code",
   "execution_count": 13,
   "metadata": {},
   "outputs": [
    {
     "name": "stdout",
     "output_type": "stream",
     "text": [
      "-5.329070518200744e-15\n",
      "[[ 1.87649984e+14 -1.87649984e+14 -3.28125000e-01  1.87649984e+14]\n",
      " [ 2.25179981e+15 -2.25179981e+15  6.25000000e-02  2.25179981e+15]\n",
      " [-5.25419957e+15  5.25419957e+15  1.87500000e-01 -5.25419957e+15]\n",
      " [ 5.62949953e+14 -5.62949953e+14  1.56250000e-02  5.62949953e+14]]\n"
     ]
    }
   ],
   "source": [
    "print(np.linalg.det(mat_tran))\n",
    "print(np.linalg.inv(mat_tran))"
   ]
  },
  {
   "cell_type": "code",
   "execution_count": 14,
   "metadata": {},
   "outputs": [
    {
     "name": "stdout",
     "output_type": "stream",
     "text": [
      "-1\n",
      "[[1 2 3]\n",
      " [2 5 3]\n",
      " [1 0 8]]\n"
     ]
    }
   ],
   "source": [
    "def phu_dai_so(mt, i, j):\n",
    "    psd = mt.copy()\n",
    "    psd = np.delete(psd, i, 0);\n",
    "    psd = np.delete(psd, j, 1); \n",
    "    return psd\n",
    "    pass\n",
    "\n",
    "#mat_tran = np.array([[1, 2, 3], [-4, 5,6], [7, -8,9]])\n",
    "#mat_tran = np.array([[3,4,2], [6,8, 4], [9, 12, 10]])\n",
    "#mat_tran = np.array([ [1,2,3,4], [2,3,4,1], [3,4,1,2], [4,1,2,3]])\n",
    "#mat_tran = np.array([ [3,1,1,1], [1,3,1,1], [1,1,3,1], [1,1,1,3]])\n",
    "\n",
    "#mat_tran = np.array([ [1,1,1,1], [1,2,3,4], [1,4,9,16], [1,8,27,64]])\n",
    "#mat_tran = np.array([ [1,1,1,1], [1,2,3,4], [1,3,6,10], [1,4,10,20]])\n",
    "\n",
    "#mat_tran = np.array([[3,4,2], [6,8, 4], [9, 12, 2]])\n",
    "\n",
    "#mat_tran = np.array([[1,2,1,1], [2,3,2,6],[-3, -1,0, 5], [1,1,1,5]])\n",
    "#mat_tran = np.array([[246, 427,327], [1014, 543, 443],[-342, 721, 621]])\n",
    "\n",
    "mat_tran = np.array([[1,2,3], [2,5,3],[1, 0 ,8]])\n",
    "def tinh_dinh_thuc(mt):\n",
    "    so_chieu = mt.shape[1]\n",
    "\n",
    "    if so_chieu <= 1:\n",
    "        return mt[0][0]\n",
    "    \n",
    "    ket_qua = 0\n",
    "    j = 0\n",
    "    while j < so_chieu:\n",
    "        psd = phu_dai_so(mt, 0, j)\n",
    "        ket_qua += ((-1)** j) * mt[0][j] * tinh_dinh_thuc(psd)\n",
    "        j = j + 1\n",
    "        pass\n",
    "    return ket_qua\n",
    "    pass\n",
    "\n",
    "print(tinh_dinh_thuc(mat_tran))\n",
    "print(mat_tran)"
   ]
  },
  {
   "cell_type": "code",
   "execution_count": 15,
   "metadata": {},
   "outputs": [
    {
     "data": {
      "text/plain": [
       "array([[ 40., -16.,  -9.],\n",
       "       [-13.,   5.,   3.],\n",
       "       [ -5.,   2.,   1.]])"
      ]
     },
     "execution_count": 15,
     "metadata": {},
     "output_type": "execute_result"
    }
   ],
   "source": [
    "def nghich_dao(mt):\n",
    "    a = np.zeros(shape=(mt.shape[0],mt.shape[1]))\n",
    "    i = 0\n",
    "    while i < mt.shape[0]:\n",
    "       \n",
    "        j = 0\n",
    "        while j < mt.shape[1]:\n",
    "            psd = phu_dai_so(mt, i, j)\n",
    "            a[i][j] = ((-1) ** (j + i)) * tinh_dinh_thuc(psd)\n",
    "            j = j + 1\n",
    "            pass\n",
    "         \n",
    "        i = i + 1\n",
    "        pass\n",
    "    return a\n",
    "    pass\n",
    "\n",
    "nghich_dao(mat_tran).transpose()"
   ]
  }
 ],
 "metadata": {
  "interpreter": {
   "hash": "916dbcbb3f70747c44a77c7bcd40155683ae19c65e1c03b4aa3499c5328201f1"
  },
  "kernelspec": {
   "display_name": "Python 3.8.10 64-bit",
   "language": "python",
   "name": "python3"
  },
  "language_info": {
   "codemirror_mode": {
    "name": "ipython",
    "version": 3
   },
   "file_extension": ".py",
   "mimetype": "text/x-python",
   "name": "python",
   "nbconvert_exporter": "python",
   "pygments_lexer": "ipython3",
   "version": "3.8.10"
  },
  "orig_nbformat": 4
 },
 "nbformat": 4,
 "nbformat_minor": 2
}
