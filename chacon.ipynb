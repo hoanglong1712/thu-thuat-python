{
 "cells": [
  {
   "cell_type": "code",
   "execution_count": 2,
   "metadata": {},
   "outputs": [
    {
     "name": "stdout",
     "output_type": "stream",
     "text": [
      "30\n"
     ]
    }
   ],
   "source": [
    "# cha hon con it nhat la 25 tuoi\n",
    "# khi nao tuoi cha gap doi tuoi con\n",
    "\n",
    "\n",
    "def khi_nao(tuoi_cha, tuoi_con):\n",
    "    # tai thoi diem tuoi cha = 2 lan tuoi con\n",
    "    # luc do goi tuoi con la x, tuoi cha la 2x\n",
    "    x = tuoi_cha - tuoi_con\n",
    "    tuoi_cha_khi_do = 2 * x\n",
    "\n",
    "    so_nam = tuoi_cha_khi_do - tuoi_cha\n",
    "    return so_nam\n",
    "    pass    \n",
    "\n",
    "\n",
    "print(khi_nao(40, 5))    \n",
    "\n"
   ]
  }
 ],
 "metadata": {
  "interpreter": {
   "hash": "916dbcbb3f70747c44a77c7bcd40155683ae19c65e1c03b4aa3499c5328201f1"
  },
  "kernelspec": {
   "display_name": "Python 3.8.10 64-bit",
   "language": "python",
   "name": "python3"
  },
  "language_info": {
   "codemirror_mode": {
    "name": "ipython",
    "version": 3
   },
   "file_extension": ".py",
   "mimetype": "text/x-python",
   "name": "python",
   "nbconvert_exporter": "python",
   "pygments_lexer": "ipython3",
   "version": "3.8.10"
  },
  "orig_nbformat": 4
 },
 "nbformat": 4,
 "nbformat_minor": 2
}
