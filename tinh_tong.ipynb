{
 "cells": [
  {
   "cell_type": "code",
   "execution_count": 9,
   "metadata": {},
   "outputs": [
    {
     "name": "stdout",
     "output_type": "stream",
     "text": [
      "2.5936887588198103\n",
      "2.947675838573917\n"
     ]
    }
   ],
   "source": [
    "def tinh_tong(bat_dau, khac_biet, ket_thuc):\n",
    "    ket_qua = 0\n",
    "    gia_tri = bat_dau\n",
    "\n",
    "    while gia_tri <= ket_thuc:        \n",
    "           \n",
    "        ket_qua += 1 / gia_tri  \n",
    "        gia_tri += khac_biet\n",
    "        pass\n",
    "    return ket_qua\n",
    "\n",
    "print(tinh_tong(2, 2, 200))\n",
    "print(tinh_tong(1, 2, 101))\n",
    "    "
   ]
  }
 ],
 "metadata": {
  "interpreter": {
   "hash": "916dbcbb3f70747c44a77c7bcd40155683ae19c65e1c03b4aa3499c5328201f1"
  },
  "kernelspec": {
   "display_name": "Python 3.8.10 64-bit",
   "language": "python",
   "name": "python3"
  },
  "language_info": {
   "codemirror_mode": {
    "name": "ipython",
    "version": 3
   },
   "file_extension": ".py",
   "mimetype": "text/x-python",
   "name": "python",
   "nbconvert_exporter": "python",
   "pygments_lexer": "ipython3",
   "version": "3.8.10"
  },
  "orig_nbformat": 4
 },
 "nbformat": 4,
 "nbformat_minor": 2
}
