{
 "cells": [
  {
   "cell_type": "code",
   "execution_count": 12,
   "metadata": {},
   "outputs": [
    {
     "name": "stdout",
     "output_type": "stream",
     "text": [
      "325\n",
      "12\n",
      "325\n",
      "12\n"
     ]
    }
   ],
   "source": [
    "n = int(input('Nhap n'))\n",
    "\n",
    "# tinh tong s = 1 + 2 + .. + n\n",
    "# cap so cong\n",
    "# s = n(n + 1)/ 2\n",
    "\n",
    "print(int( n * (n + 1) / 2))\n",
    "\n",
    "so = 1\n",
    "tong = 0\n",
    "\n",
    "while so <= n:\n",
    "    tong += so   \n",
    "    so += 1\n",
    "    pass\n",
    "#####\n",
    "\n",
    "so_le = 0\n",
    "so = 1\n",
    "while so < n:    \n",
    "    if so % 2 != 0:\n",
    "        so_le += 1\n",
    "    so += 1\n",
    "    pass\n",
    "\n",
    "# dem so tu nhien nho nho hon n va le\n",
    "\n",
    "# neu n chan thi ta co n / 2 so le thoa man yeu cau\n",
    "# neu n le thi ta co (n-1) / 2 so le thoa man yeu cau\n",
    "\n",
    "\n",
    "if n % 2 == 0:\n",
    "    print(int(n/2))\n",
    "else:\n",
    "    print(int((n-1)/2))\n",
    "\n",
    "print(tong)\n",
    "print(so_le)\n",
    "    \n",
    "\n"
   ]
  }
 ],
 "metadata": {
  "interpreter": {
   "hash": "916dbcbb3f70747c44a77c7bcd40155683ae19c65e1c03b4aa3499c5328201f1"
  },
  "kernelspec": {
   "display_name": "Python 3.8.10 64-bit",
   "language": "python",
   "name": "python3"
  },
  "language_info": {
   "codemirror_mode": {
    "name": "ipython",
    "version": 3
   },
   "file_extension": ".py",
   "mimetype": "text/x-python",
   "name": "python",
   "nbconvert_exporter": "python",
   "pygments_lexer": "ipython3",
   "version": "3.8.10"
  },
  "orig_nbformat": 4
 },
 "nbformat": 4,
 "nbformat_minor": 2
}
