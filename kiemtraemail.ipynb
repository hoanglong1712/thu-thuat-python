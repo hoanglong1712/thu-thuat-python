{
 "cells": [
  {
   "cell_type": "code",
   "execution_count": 6,
   "metadata": {},
   "outputs": [
    {
     "name": "stdout",
     "output_type": "stream",
     "text": [
      "True\n",
      "False\n",
      "False\n",
      "False\n",
      "False\n",
      "False\n"
     ]
    }
   ],
   "source": [
    "# ham kiem tra email hop le\n",
    "\n",
    "# ten@ten.duoi\n",
    "\n",
    "#  phai co 1 ky tu @\n",
    "# phai co 1 dau .\n",
    "# @ dung truoc . \n",
    "# khoang cach giua @ va . >= 1\n",
    "# @ khong phai la ky tu dau tien cua email\n",
    "# . khong phai la ky tu cuoi cung\n",
    "\n",
    "def kiem_tra_email(email_):\n",
    "    if email_ is None:\n",
    "        return False\n",
    "    #   2@4.6\n",
    "    if len(email_) <  6:\n",
    "        return False\n",
    "    at = email_.find('@')\n",
    "    period = email_.find('.')\n",
    "\n",
    "    if at < 0:\n",
    "        return False\n",
    "    if period < 0:\n",
    "        return False\n",
    "    if at > period:\n",
    "        return False\n",
    "    if period - at < 2:\n",
    "        return False\n",
    "    if at == 0:\n",
    "        return False\n",
    "    \n",
    "    if period == len(email_) - 1:\n",
    "        return False\n",
    "\n",
    "    return True\n",
    "\n",
    "print(kiem_tra_email('hoanglong1712@yahoo.com'))\n",
    "print(kiem_tra_email('@yahoo.com'))\n",
    "print(kiem_tra_email('hoanglong1712@yahoo.'))\n",
    "print(kiem_tra_email('hoanglong1712yahoo.com'))\n",
    "print(kiem_tra_email('hoanglong1712@yahoocom'))\n",
    "print(kiem_tra_email('hoanglong1712@.com'))\n",
    "\n"
   ]
  }
 ],
 "metadata": {
  "interpreter": {
   "hash": "916dbcbb3f70747c44a77c7bcd40155683ae19c65e1c03b4aa3499c5328201f1"
  },
  "kernelspec": {
   "display_name": "Python 3.8.10 64-bit",
   "language": "python",
   "name": "python3"
  },
  "language_info": {
   "codemirror_mode": {
    "name": "ipython",
    "version": 3
   },
   "file_extension": ".py",
   "mimetype": "text/x-python",
   "name": "python",
   "nbconvert_exporter": "python",
   "pygments_lexer": "ipython3",
   "version": "3.8.10"
  },
  "orig_nbformat": 4
 },
 "nbformat": 4,
 "nbformat_minor": 2
}
