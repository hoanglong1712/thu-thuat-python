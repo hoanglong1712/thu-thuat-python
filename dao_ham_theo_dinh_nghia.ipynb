{
 "cells": [
  {
   "cell_type": "code",
   "execution_count": 42,
   "metadata": {},
   "outputs": [],
   "source": [
    "import sympy"
   ]
  },
  {
   "cell_type": "code",
   "execution_count": 43,
   "metadata": {},
   "outputs": [
    {
     "name": "stdout",
     "output_type": "stream",
     "text": [
      "0\n"
     ]
    }
   ],
   "source": [
    "def dao_ham_c(c):\n",
    "    x = sympy.symbols('x')\n",
    "    expr =(c - c) / x\n",
    "    return sympy.limit(expr, x, 0)\n",
    "\n",
    "print(dao_ham_c(4))"
   ]
  },
  {
   "cell_type": "code",
   "execution_count": 44,
   "metadata": {},
   "outputs": [
    {
     "name": "stdout",
     "output_type": "stream",
     "text": [
      "1\n"
     ]
    }
   ],
   "source": [
    "def dao_ham_x(x):\n",
    "    dx = sympy.symbols('dx')\n",
    "    expr = (x + dx - x) / dx\n",
    "    return sympy.limit(expr, dx, 0)\n",
    "\n",
    "print(dao_ham_x(5))\n"
   ]
  },
  {
   "cell_type": "code",
   "execution_count": 45,
   "metadata": {},
   "outputs": [
    {
     "name": "stdout",
     "output_type": "stream",
     "text": [
      "cos(1)\n"
     ]
    }
   ],
   "source": [
    "\n",
    "def dao_ham_sin(x):\n",
    "    dx = sympy.symbols('dx')\n",
    "    expr = (sympy.sin(x + dx) - sympy.sin(x)) / dx\n",
    "    return sympy.limit(expr, dx, 0)\n",
    "\n",
    "print(dao_ham_sin(1))"
   ]
  },
  {
   "cell_type": "code",
   "execution_count": 46,
   "metadata": {},
   "outputs": [
    {
     "name": "stdout",
     "output_type": "stream",
     "text": [
      "exp(2)\n"
     ]
    }
   ],
   "source": [
    "def dao_ham_e(x):\n",
    "    dx = sympy.symbols('dx')\n",
    "    expr = (sympy.exp(x + dx) - sympy.exp(x)) / dx\n",
    "    return sympy.limit(expr, dx, 0)\n",
    "\n",
    "print(dao_ham_e(2))"
   ]
  },
  {
   "cell_type": "code",
   "execution_count": 48,
   "metadata": {},
   "outputs": [
    {
     "name": "stdout",
     "output_type": "stream",
     "text": [
      "0\n",
      "1\n",
      "cos(6)\n",
      "exp(6)\n"
     ]
    }
   ],
   "source": [
    "print(dao_ham_c(6))\n",
    "print(dao_ham_x(6))\n",
    "print(dao_ham_sin(6))\n",
    "print(dao_ham_e(6))\n"
   ]
  },
  {
   "cell_type": "code",
   "execution_count": null,
   "metadata": {},
   "outputs": [],
   "source": []
  }
 ],
 "metadata": {
  "interpreter": {
   "hash": "916dbcbb3f70747c44a77c7bcd40155683ae19c65e1c03b4aa3499c5328201f1"
  },
  "kernelspec": {
   "display_name": "Python 3.8.10 64-bit",
   "language": "python",
   "name": "python3"
  },
  "language_info": {
   "codemirror_mode": {
    "name": "ipython",
    "version": 3
   },
   "file_extension": ".py",
   "mimetype": "text/x-python",
   "name": "python",
   "nbconvert_exporter": "python",
   "pygments_lexer": "ipython3",
   "version": "3.8.10"
  },
  "orig_nbformat": 4
 },
 "nbformat": 4,
 "nbformat_minor": 2
}
