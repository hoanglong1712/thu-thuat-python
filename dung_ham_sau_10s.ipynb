{
 "cells": [
  {
   "cell_type": "code",
   "execution_count": 1,
   "metadata": {},
   "outputs": [
    {
     "name": "stdout",
     "output_type": "stream",
     "text": [
      "Hết giờ!\n"
     ]
    }
   ],
   "source": [
    "import signal\n",
    "\n",
    "def xu_ly_signal(signum, frame):\n",
    "    raise Exception(\"Hết giờ!\")\n",
    "\n",
    "signal.signal(signal.SIGALRM, xu_ly_signal)\n",
    "signal.alarm(10) # 10 giây\n",
    "\n",
    "def ham():\n",
    "    while True:\n",
    "        pass\n",
    "    pass\n",
    "\n",
    "try:\n",
    "    ham()\n",
    "except Exception as ex:\n",
    "    print(ex)\n",
    "\n"
   ]
  }
 ],
 "metadata": {
  "interpreter": {
   "hash": "916dbcbb3f70747c44a77c7bcd40155683ae19c65e1c03b4aa3499c5328201f1"
  },
  "kernelspec": {
   "display_name": "Python 3.8.10 64-bit",
   "language": "python",
   "name": "python3"
  },
  "language_info": {
   "codemirror_mode": {
    "name": "ipython",
    "version": 3
   },
   "file_extension": ".py",
   "mimetype": "text/x-python",
   "name": "python",
   "nbconvert_exporter": "python",
   "pygments_lexer": "ipython3",
   "version": "3.8.10"
  },
  "orig_nbformat": 4
 },
 "nbformat": 4,
 "nbformat_minor": 2
}
