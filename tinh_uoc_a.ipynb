{
 "cells": [
  {
   "cell_type": "code",
   "execution_count": 2,
   "metadata": {},
   "outputs": [
    {
     "name": "stdout",
     "output_type": "stream",
     "text": [
      "Uoc cua a la: 1 2 13 26 \n",
      "So cac uoc: 4\n"
     ]
    }
   ],
   "source": [
    "a = int(input('Nhap a:'))\n",
    "\n",
    "so = 1\n",
    "so_uoc = 0\n",
    "print('Uoc cua a la:', end=' ')\n",
    "while so <= a:\n",
    "    if a % so == 0:\n",
    "        so_uoc = so_uoc + 1\n",
    "        print(so, end=' ')\n",
    "        pass\n",
    "    so = so + 1\n",
    "    pass\n",
    "\n",
    "print('')\n",
    "print('So cac uoc:', so_uoc)"
   ]
  }
 ],
 "metadata": {
  "interpreter": {
   "hash": "916dbcbb3f70747c44a77c7bcd40155683ae19c65e1c03b4aa3499c5328201f1"
  },
  "kernelspec": {
   "display_name": "Python 3.8.10 64-bit",
   "language": "python",
   "name": "python3"
  },
  "language_info": {
   "codemirror_mode": {
    "name": "ipython",
    "version": 3
   },
   "file_extension": ".py",
   "mimetype": "text/x-python",
   "name": "python",
   "nbconvert_exporter": "python",
   "pygments_lexer": "ipython3",
   "version": "3.8.10"
  },
  "orig_nbformat": 4
 },
 "nbformat": 4,
 "nbformat_minor": 2
}
