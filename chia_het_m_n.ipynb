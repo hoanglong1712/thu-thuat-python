{
 "cells": [
  {
   "cell_type": "code",
   "execution_count": 3,
   "metadata": {},
   "outputs": [
    {
     "name": "stdout",
     "output_type": "stream",
     "text": [
      "45\n"
     ]
    }
   ],
   "source": [
    "M = int(input('Nhap M:'))\n",
    "N = int(input('Nhap N:'))\n",
    "\n",
    "tong = 0\n",
    "so = M\n",
    "while so <= N:\n",
    "    if so % 3 == 0 and so % 5 == 0:\n",
    "        tong = tong + so\n",
    "        pass \n",
    "    so = so + 1\n",
    "    pass\n",
    "\n",
    "print(tong)"
   ]
  }
 ],
 "metadata": {
  "interpreter": {
   "hash": "916dbcbb3f70747c44a77c7bcd40155683ae19c65e1c03b4aa3499c5328201f1"
  },
  "kernelspec": {
   "display_name": "Python 3.8.10 64-bit",
   "language": "python",
   "name": "python3"
  },
  "language_info": {
   "codemirror_mode": {
    "name": "ipython",
    "version": 3
   },
   "file_extension": ".py",
   "mimetype": "text/x-python",
   "name": "python",
   "nbconvert_exporter": "python",
   "pygments_lexer": "ipython3",
   "version": "3.8.10"
  },
  "orig_nbformat": 4
 },
 "nbformat": 4,
 "nbformat_minor": 2
}
