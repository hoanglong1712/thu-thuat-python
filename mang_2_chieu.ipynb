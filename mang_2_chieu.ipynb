{
 "cells": [
  {
   "cell_type": "code",
   "execution_count": 6,
   "metadata": {},
   "outputs": [
    {
     "name": "stdout",
     "output_type": "stream",
     "text": [
      "806400\n"
     ]
    }
   ],
   "source": [
    "# - Tính tổng mảng 2 chiều \n",
    "# - Tính tích mảng 2 chiều  \n",
    "#- Tìm giá trị lớn nhất  \n",
    "#- Tìm giá trị nhỏ nhất\n",
    "\n",
    "def tong(mang):\n",
    "    gia_tri = 0\n",
    "    for hang in mang:\n",
    "        for so in hang:\n",
    "            gia_tri += so\n",
    "            pass\n",
    "        pass\n",
    "    return gia_tri\n",
    "\n",
    "def tich(mang):\n",
    "    gia_tri = 1\n",
    "    for hang in mang:\n",
    "        for so in hang:\n",
    "            gia_tri *= so\n",
    "            pass\n",
    "        pass\n",
    "    return gia_tri\n",
    "\n",
    "def sol_lon_nhat(mang):\n",
    "    gia_tri = mang[0][0]\n",
    "    for hang in mang:\n",
    "        for so in hang:\n",
    "            if gia_tri < so:\n",
    "                gia_tri = so\n",
    "                pass\n",
    "            pass\n",
    "        pass\n",
    "    return gia_tri\n",
    "\n",
    "def sol_nho_nhat(mang):\n",
    "    gia_tri = mang[0][0]\n",
    "    for hang in mang:\n",
    "        for so in hang:\n",
    "            if gia_tri > so:\n",
    "                gia_tri = so\n",
    "                pass\n",
    "            pass\n",
    "        pass\n",
    "    return gia_tri\n",
    "\n",
    "mot_mang = [[ 1, 2 ,3 ,4 ,5] , [ 4 ,5 ,6 ,7, 8] ]\n"
   ]
  },
  {
   "cell_type": "code",
   "execution_count": 8,
   "metadata": {},
   "outputs": [
    {
     "name": "stdout",
     "output_type": "stream",
     "text": [
      "[[1, 2, 3, 4, 5], [4, 5, 6, 7, 8]]\n"
     ]
    }
   ],
   "source": [
    "print(mot_mang)"
   ]
  },
  {
   "cell_type": "code",
   "execution_count": 9,
   "metadata": {},
   "outputs": [
    {
     "name": "stdout",
     "output_type": "stream",
     "text": [
      "806400\n",
      "45\n",
      "8\n",
      "1\n"
     ]
    }
   ],
   "source": [
    "print(tich(mot_mang))\n",
    "print(tong(mot_mang))\n",
    "print(sol_lon_nhat(mot_mang))\n",
    "print(sol_nho_nhat(mot_mang))"
   ]
  }
 ],
 "metadata": {
  "interpreter": {
   "hash": "916dbcbb3f70747c44a77c7bcd40155683ae19c65e1c03b4aa3499c5328201f1"
  },
  "kernelspec": {
   "display_name": "Python 3.8.10 64-bit",
   "language": "python",
   "name": "python3"
  },
  "language_info": {
   "codemirror_mode": {
    "name": "ipython",
    "version": 3
   },
   "file_extension": ".py",
   "mimetype": "text/x-python",
   "name": "python",
   "nbconvert_exporter": "python",
   "pygments_lexer": "ipython3",
   "version": "3.8.10"
  },
  "orig_nbformat": 4
 },
 "nbformat": 4,
 "nbformat_minor": 2
}
