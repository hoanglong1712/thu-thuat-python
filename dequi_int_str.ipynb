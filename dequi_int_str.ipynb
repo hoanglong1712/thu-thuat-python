{
 "cells": [
  {
   "cell_type": "code",
   "execution_count": 13,
   "metadata": {},
   "outputs": [
    {
     "name": "stdout",
     "output_type": "stream",
     "text": [
      "<class 'str'>\n",
      "65654646546\n"
     ]
    }
   ],
   "source": [
    "#  dùng recursion để biến 1 biến int thành str\n",
    "#  mà không dùng str() \n",
    "\n",
    "def de_qui(n):\n",
    "    # N == 0\n",
    "    if n == 0:\n",
    "        return '0'\n",
    "    # chia lay du\n",
    "    du = n % 10\n",
    "    # chia lay phan nguyen\n",
    "    phan_nguyen = n // 10\n",
    "    # 48 la 0 trong bang ASCCI\n",
    "    # du = 3 thi du + 48 = 51\n",
    "    # chr(51)  thi no cho ky tu 3\n",
    "    chuoi = chr(du + 48)    \n",
    "    if phan_nguyen == 0:\n",
    "        if n < 10:\n",
    "            return chuoi\n",
    "    return de_qui(phan_nguyen) + chuoi\n",
    "\n",
    "kiem_tra = de_qui(65654646546)\n",
    "print(type(kiem_tra))\n",
    "print(kiem_tra)\n",
    "\n"
   ]
  }
 ],
 "metadata": {
  "interpreter": {
   "hash": "916dbcbb3f70747c44a77c7bcd40155683ae19c65e1c03b4aa3499c5328201f1"
  },
  "kernelspec": {
   "display_name": "Python 3.8.10 64-bit",
   "language": "python",
   "name": "python3"
  },
  "language_info": {
   "codemirror_mode": {
    "name": "ipython",
    "version": 3
   },
   "file_extension": ".py",
   "mimetype": "text/x-python",
   "name": "python",
   "nbconvert_exporter": "python",
   "pygments_lexer": "ipython3",
   "version": "3.8.10"
  },
  "orig_nbformat": 4
 },
 "nbformat": 4,
 "nbformat_minor": 2
}
