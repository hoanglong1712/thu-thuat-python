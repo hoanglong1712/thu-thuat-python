{
 "cells": [
  {
   "cell_type": "code",
   "execution_count": 3,
   "metadata": {},
   "outputs": [
    {
     "name": "stdout",
     "output_type": "stream",
     "text": [
      "0010\n",
      "0011\n",
      "0100\n",
      "0101\n",
      "0110\n",
      "0111\n",
      "1001\n",
      "1010\n",
      "1011\n",
      "1100\n",
      "1101\n",
      "1110\n",
      "1111\n"
     ]
    }
   ],
   "source": [
    "# cho xau nhi phan trong do khong co 3 so 0 lien tiep\n",
    "# tim cac xau co do dai n = 6\n",
    "\n",
    "\n",
    "def xau_de_qui(n, do_dai_so_0, ket_qua):\n",
    "    if n <= 0:\n",
    "        ba_khong = '0' * do_dai_so_0\n",
    "        if len(ket_qua) > 0 and ba_khong not in ket_qua:\n",
    "            print(ket_qua)\n",
    "        pass    \n",
    "    else:\n",
    "        xau_de_qui(n - 1, do_dai_so_0, ket_qua + '0')\n",
    "        xau_de_qui(n - 1, do_dai_so_0, ket_qua + '1')\n",
    "        pass\n",
    "    pass\n",
    "\n",
    "def xau(n, do_dai_so_0):\n",
    "    ket_qua = \"\"\n",
    "    xau_de_qui(n, do_dai_so_0, ket_qua)\n",
    "    pass\n",
    "xau(4, 3)"
   ]
  }
 ],
 "metadata": {
  "interpreter": {
   "hash": "916dbcbb3f70747c44a77c7bcd40155683ae19c65e1c03b4aa3499c5328201f1"
  },
  "kernelspec": {
   "display_name": "Python 3.8.10 64-bit",
   "language": "python",
   "name": "python3"
  },
  "language_info": {
   "codemirror_mode": {
    "name": "ipython",
    "version": 3
   },
   "file_extension": ".py",
   "mimetype": "text/x-python",
   "name": "python",
   "nbconvert_exporter": "python",
   "pygments_lexer": "ipython3",
   "version": "3.8.10"
  },
  "orig_nbformat": 4
 },
 "nbformat": 4,
 "nbformat_minor": 2
}
