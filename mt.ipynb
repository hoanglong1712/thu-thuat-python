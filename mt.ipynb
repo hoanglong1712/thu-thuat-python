{
 "cells": [
  {
   "cell_type": "code",
   "execution_count": 76,
   "metadata": {},
   "outputs": [],
   "source": [
    "import numpy as np"
   ]
  },
  {
   "cell_type": "code",
   "execution_count": 77,
   "metadata": {},
   "outputs": [
    {
     "name": "stdout",
     "output_type": "stream",
     "text": [
      "[[ 3  4  2]\n",
      " [ 6  8  4]\n",
      " [ 9 12  2]]\n"
     ]
    }
   ],
   "source": [
    "mat_tran = np.array([[3,4,2],[6,8,4],[9, 12, 2]])\n",
    "print(mat_tran)"
   ]
  },
  {
   "cell_type": "code",
   "execution_count": 78,
   "metadata": {},
   "outputs": [],
   "source": [
    "def ma_tran_con(mt, i, j):\n",
    "    mtc = mt.copy()\n",
    "    mtc = np.delete(mtc, i, 0);\n",
    "    mtc = np.delete(mtc, j, 1); \n",
    "    return mtc "
   ]
  },
  {
   "cell_type": "code",
   "execution_count": 79,
   "metadata": {},
   "outputs": [],
   "source": [
    "def dinh_thuc(mt):\n",
    "    so_chieu = mt.shape[1]\n",
    "    if so_chieu <= 1:\n",
    "        return mt[0][0]\n",
    "    \n",
    "    ket_qua = 0\n",
    "    j = 0\n",
    "    while j < so_chieu:\n",
    "        pds = ma_tran_con(mt, 0, j)\n",
    "        ket_qua += ((-1) ** j) * mt[0][j] * dinh_thuc(pds)\n",
    "        j = j + 1\n",
    "        pass\n",
    "    return ket_qua    \n",
    "\n"
   ]
  },
  {
   "cell_type": "code",
   "execution_count": 80,
   "metadata": {},
   "outputs": [],
   "source": [
    "def nghich_dao(mt):\n",
    "\n",
    "    d_mt = dinh_thuc(mt)\n",
    "    if d_mt == 0:        \n",
    "        return None        \n",
    "\n",
    "    so_hang = mt.shape[0]\n",
    "    so_cot =  mt.shape[1]\n",
    "\n",
    "    c = np.zeros(shape=( so_hang, so_cot))\n",
    "    i = 0\n",
    "    while i < so_hang:\n",
    "        \n",
    "        j = 0\n",
    "        while j < so_cot:\n",
    "            pds = ma_tran_con(mt, i, j)\n",
    "            c[i][j] = ((-1) ** (i + j)) * dinh_thuc(pds)\n",
    "            j = j + 1\n",
    "            pass\n",
    "        i = i + 1\n",
    "        pass\n",
    "\n",
    "    k = -1 / d_mt\n",
    "    c_t = c.transpose()\n",
    "    ket_qua = np.multiply(c_t, k)\n",
    "    return ket_qua"
   ]
  },
  {
   "cell_type": "code",
   "execution_count": 81,
   "metadata": {},
   "outputs": [
    {
     "name": "stdout",
     "output_type": "stream",
     "text": [
      "[[ 40. -16.  -9.]\n",
      " [-13.   5.   3.]\n",
      " [ -5.   2.   1.]]\n"
     ]
    }
   ],
   "source": [
    "ma_tran = np.array([[1,2,3], [2,5,3], [1,0, 8]])\n",
    "\n",
    "print(nghich_dao(ma_tran))"
   ]
  },
  {
   "cell_type": "code",
   "execution_count": 82,
   "metadata": {},
   "outputs": [
    {
     "name": "stdout",
     "output_type": "stream",
     "text": [
      "[[ 3  4  2]\n",
      " [ 6  8  4]\n",
      " [ 9 12  2]]\n",
      "None\n"
     ]
    }
   ],
   "source": [
    "mat_tran = np.array([[3,4,2],[6,8,4],[9, 12, 2]])\n",
    "print(mat_tran)\n",
    "print(nghich_dao(mat_tran))"
   ]
  }
 ],
 "metadata": {
  "interpreter": {
   "hash": "916dbcbb3f70747c44a77c7bcd40155683ae19c65e1c03b4aa3499c5328201f1"
  },
  "kernelspec": {
   "display_name": "Python 3.8.10 64-bit",
   "language": "python",
   "name": "python3"
  },
  "language_info": {
   "codemirror_mode": {
    "name": "ipython",
    "version": 3
   },
   "file_extension": ".py",
   "mimetype": "text/x-python",
   "name": "python",
   "nbconvert_exporter": "python",
   "pygments_lexer": "ipython3",
   "version": "3.8.10"
  },
  "orig_nbformat": 4
 },
 "nbformat": 4,
 "nbformat_minor": 2
}
